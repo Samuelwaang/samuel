{
 "cells": [
  {
   "attachments": {},
   "cell_type": "markdown",
   "metadata": {},
   "source": [
    "# 2014 frq\n",
    "\n",
    "- toc: false\n",
    "- badges: true\n",
    "- comments: true\n",
    "- author: Samuel\n",
    "- categories: [fastpages, CB]\n",
    "- image: images/picture.jpg"
   ]
  },
  {
   "attachments": {},
   "cell_type": "markdown",
   "metadata": {},
   "source": [
    "## frq #1"
   ]
  },
  {
   "cell_type": "code",
   "execution_count": 68,
   "metadata": {},
   "outputs": [
    {
     "name": "stdout",
     "output_type": "stream",
     "text": [
      "BDASA\n",
      "before:\n",
      "BADAS\n",
      "SAF\n",
      "HI\n",
      "after:\n",
      "BDASA\n",
      "SFA\n"
     ]
    }
   ],
   "source": [
    "import java.util.*;\n",
    "public class Main {\n",
    "    public Main(){\n",
    "\n",
    "    }\n",
    "    public static String scrambleWord(String word) {\n",
    "        String scrambled = \"\";\n",
    "        int i = 0;\n",
    "        while(i < word.length() - 1) {\n",
    "            String char1 = word.substring(i, i+1);\n",
    "            String char2 = word.substring(i+1, i+2);\n",
    "            if(char1.equals(\"A\") && !char2.equals(\"A\") && !char2.equals(\"\")) {\n",
    "                scrambled += char2 + char1; \n",
    "                i+=2;\n",
    "            }\n",
    "            else{\n",
    "                scrambled += char1;\n",
    "                i++;\n",
    "            }\n",
    "\n",
    "\n",
    "        }\n",
    "        if(scrambled.length() != word.length()) { //added this part because last char of the string wasnt showing if not with an a at the end\n",
    "            scrambled += word.substring(i);\n",
    "\n",
    "        } \n",
    "        // for(int i = 0; i < word.length() - 1; i+=2) {\n",
    "            \n",
    "        // }\n",
    "        return scrambled;\n",
    "\n",
    "    }\n",
    "    public static void scrambleOrRemove(List<String> wordList) {\n",
    "        for(int i = 0; i < wordList.size(); i++) {\n",
    "            if((wordList.get(i)).equals(scrambleWord(wordList.get(i)))) {\n",
    "                wordList.remove(i);\n",
    "            }\n",
    "            else {\n",
    "                wordList.set(i, scrambleWord(wordList.get(i)));\n",
    "            }\n",
    "        }\n",
    "    }\n",
    "    public static void show(List<String> wordList) {\n",
    "        for(int i = 0; i < wordList.size(); i++){\n",
    "            System.out.println(wordList.get(i));\n",
    "        }\n",
    "    }\n",
    "\n",
    "    public static void main(String[] args){\n",
    "        System.out.println(scrambleWord(\"BADAS\"));\n",
    "        ArrayList<String> wordList = new ArrayList<String>();\n",
    "        wordList.add(\"BADAS\");\n",
    "        wordList.add(\"SAF\");\n",
    "        wordList.add(\"HI\");\n",
    "        System.out.println(\"before:\");\n",
    "        show(wordList);\n",
    "        scrambleOrRemove(wordList);\n",
    "        System.out.println(\"after:\");\n",
    "        show(wordList);\n",
    "\n",
    "\n",
    "\n",
    "        \n",
    "    }\n",
    "}\n",
    "Main.main(null);"
   ]
  },
  {
   "attachments": {},
   "cell_type": "markdown",
   "metadata": {},
   "source": [
    "## frq #2"
   ]
  },
  {
   "cell_type": "code",
   "execution_count": 70,
   "metadata": {},
   "outputs": [
    {
     "ename": "CompilationException",
     "evalue": "",
     "output_type": "error",
     "traceback": [
      "\u001b[1m\u001b[30m|   \u001b[1m\u001b[30mpublic class Director extends Rock{\u001b[0m",
      "\u001b[1m\u001b[30m|   \u001b[1m\u001b[30m\u001b[0m",
      "\u001b[1m\u001b[30m|   \u001b[1m\u001b[30m    public Director(){\u001b[0m",
      "\u001b[1m\u001b[30m|   \u001b[1m\u001b[30m        super(Color.RED);\u001b[0m",
      "\u001b[1m\u001b[30m|   \u001b[1m\u001b[30m    }\u001b[0m",
      "\u001b[1m\u001b[30m|   \u001b[1m\u001b[30m}\u001b[0m",
      "\u001b[1m\u001b[31mUnresolved dependencies:\u001b[0m",
      "\u001b[1m\u001b[31m   - class Rock\u001b[0m",
      "\u001b[1m\u001b[31m   - variable Color\u001b[0m"
     ]
    }
   ],
   "source": [
    "public class Director extends Rock{\n",
    "\n",
    "    public Director(){\n",
    "        super(Color.RED);\n",
    "    }\n",
    "    public static void switch(List<String> arraylist){\n",
    "        if(color.equals(Color.RED)){\n",
    "            colorSet(Color.RED);\n",
    "        }\n",
    "        else {\n",
    "            \n",
    "        }\n",
    "    }\n",
    "}"
   ]
  },
  {
   "attachments": {},
   "cell_type": "markdown",
   "metadata": {},
   "source": [
    "## frq3"
   ]
  },
  {
   "cell_type": "code",
   "execution_count": 74,
   "metadata": {},
   "outputs": [
    {
     "name": "stdout",
     "output_type": "stream",
     "text": [
      "F J \n",
      "G K \n",
      "H L \n"
     ]
    }
   ],
   "source": [
    "String[][] letters = {{\"A\", \"B\", \"C\", \"D\"},\n",
    "\n",
    "{\"E\", \"F\", \"G\", \"H\"},\n",
    "\n",
    "{\"I\", \"J\", \"K\", \"L\"}};\n",
    "\n",
    "for (int col = 1; col < letters[0].length; col++)\n",
    "\n",
    "{\n",
    "\n",
    "    for (int row = 1; row < letters.length; row++)\n",
    "\n",
    "    {\n",
    "\n",
    "        System.out.print(letters[row][col] + \" \");\n",
    "\n",
    "    }\n",
    "\n",
    "    System.out.println();\n",
    "\n",
    "}"
   ]
  },
  {
   "attachments": {},
   "cell_type": "markdown",
   "metadata": {},
   "source": [
    "## frq4"
   ]
  },
  {
   "cell_type": "code",
   "execution_count": null,
   "metadata": {},
   "outputs": [],
   "source": []
  },
  {
   "cell_type": "code",
   "execution_count": null,
   "metadata": {},
   "outputs": [],
   "source": []
  },
  {
   "cell_type": "code",
   "execution_count": 76,
   "metadata": {},
   "outputs": [
    {
     "data": {
      "text/plain": [
       "true"
      ]
     },
     "execution_count": 76,
     "metadata": {},
     "output_type": "execute_result"
    }
   ],
   "source": [
    "public static boolean recurMethod(String str)\n",
    "\n",
    "{\n",
    "\n",
    "if (str.length() <= 1)\n",
    "\n",
    "{\n",
    "\n",
    "return true;\n",
    "\n",
    "}\n",
    "\n",
    "else if (str.substring(0, 1).compareTo(str.substring(1, 2)) > 0)\n",
    "\n",
    "{\n",
    "\n",
    "return recurMethod(str.substring(1));\n",
    "\n",
    "}\n",
    "\n",
    "else\n",
    "\n",
    "{\n",
    "\n",
    "return false;\n",
    "\n",
    "}\n",
    "\n",
    "}\n",
    "recurMethod(\"edcba\");"
   ]
  }
 ],
 "metadata": {
  "kernelspec": {
   "display_name": "Java",
   "language": "java",
   "name": "java"
  },
  "language_info": {
   "codemirror_mode": "java",
   "file_extension": ".jshell",
   "mimetype": "text/x-java-source",
   "name": "java",
   "pygments_lexer": "java",
   "version": "17.0.5+8-Ubuntu-2ubuntu120.04"
  },
  "orig_nbformat": 4
 },
 "nbformat": 4,
 "nbformat_minor": 2
}
