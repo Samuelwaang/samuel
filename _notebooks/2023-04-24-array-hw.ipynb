{
 "cells": [
  {
   "cell_type": "markdown",
   "metadata": {},
   "source": []
  },
  {
   "attachments": {},
   "cell_type": "markdown",
   "metadata": {},
   "source": [
    "# Array Hacks\n",
    "\n",
    "- toc: false\n",
    "- badges: true\n",
    "- comments: true\n",
    "- author: Samuel\n",
    "- categories: [fastpages, CB]\n",
    "- image: images/picture.jpg"
   ]
  },
  {
   "attachments": {},
   "cell_type": "markdown",
   "metadata": {},
   "source": [
    "## Hack 1"
   ]
  },
  {
   "cell_type": "code",
   "execution_count": 11,
   "metadata": {},
   "outputs": [
    {
     "name": "stdout",
     "output_type": "stream",
     "text": [
      "[true]\n",
      "[5]\n"
     ]
    }
   ],
   "source": [
    "import java.util.*;\n",
    "// create ArrayLists that satisfy the following\n",
    "public class Turtle{\n",
    "    public String height;\n",
    "    public Turtle(String height){\n",
    "        this.height = height;\n",
    "    }\n",
    "    public String toString() {\n",
    "        return height;\n",
    "    }\n",
    "\n",
    "}\n",
    "// a) that stores Boolean values\n",
    "ArrayList<Boolean> Arraylist1 = new ArrayList<Boolean>();\n",
    "Arraylist1.add(true);\n",
    "System.out.println(Arraylist1.toString());\n",
    "\n",
    "// b) that stores Turtle Objects\n",
    "ArrayList<Turtle> Turtle1 = new ArrayList<Turtle>();\n",
    "Turtle turtle = new Turtle(\"5\");\n",
    "Turtle1.add(turtle);\n",
    "System.out.println(Turtle1.toString());\n",
    "\n",
    "// c) that initializes with 10 Strings\n",
    "\n",
    "ArrayList<String> Arraylist1 = new ArrayList<String>(10);"
   ]
  },
  {
   "attachments": {},
   "cell_type": "markdown",
   "metadata": {},
   "source": [
    "## Hack 2"
   ]
  },
  {
   "cell_type": "code",
   "execution_count": 17,
   "metadata": {},
   "outputs": [
    {
     "name": "stdout",
     "output_type": "stream",
     "text": [
      "ArrayList: [1, 4, 7, 12, 23]\n",
      "5\n",
      "ArrayList: [1, 7, 12, 23, 18]\n"
     ]
    }
   ],
   "source": [
    "import java.util.ArrayList;\n",
    "\n",
    "public class Hack2 {\n",
    "    public static void main(String[] args) {\n",
    "        ArrayList<Integer> randomNumbers = new ArrayList<Integer>();\n",
    "        randomNumbers.add(1);\n",
    "        randomNumbers.add(4);\n",
    "        randomNumbers.add(7);\n",
    "        randomNumbers.add(12);\n",
    "        randomNumbers.add(23);\n",
    "        System.out.println(\"ArrayList: \" + randomNumbers);\n",
    "\n",
    "        randomNumbers.remove(1);\n",
    "        randomNumbers.add(18);\n",
    "        System.out.println(randomNumbers.size());\n",
    "        System.out.println(\"ArrayList: \" + randomNumbers);\n",
    "    }\n",
    "}\n",
    "Hack2.main(null);"
   ]
  },
  {
   "attachments": {},
   "cell_type": "markdown",
   "metadata": {},
   "source": [
    "## Hack 3"
   ]
  },
  {
   "cell_type": "code",
   "execution_count": 21,
   "metadata": {},
   "outputs": [
    {
     "name": "stdout",
     "output_type": "stream",
     "text": [
      "ArrayList: [1, 4, 7, 12, 23]\n",
      "47\n"
     ]
    }
   ],
   "source": [
    "public class Hack3 {\n",
    "    public static void main(String[] args) {\n",
    "        ArrayList<Integer> values = new ArrayList<Integer>();\n",
    "        values.add(1);\n",
    "        values.add(4);\n",
    "        values.add(7);\n",
    "        values.add(12);\n",
    "        values.add(23);\n",
    "        System.out.println(\"ArrayList: \" + values);\n",
    "        \n",
    "        int total = 0;\n",
    "\n",
    "            for (int i=0; i < values.size(); i++) {\n",
    "                total += values.get(i);\n",
    "            }\n",
    "        System.out.println(total);\n",
    "    }\n",
    "}\n",
    "Hack3.main(null);"
   ]
  },
  {
   "attachments": {},
   "cell_type": "markdown",
   "metadata": {},
   "source": [
    "## Hack 5"
   ]
  },
  {
   "cell_type": "code",
   "execution_count": 27,
   "metadata": {},
   "outputs": [
    {
     "name": "stdout",
     "output_type": "stream",
     "text": [
      "ArrayList: [1, 4, 7, 12, 23]\n",
      "even\n",
      "4\n",
      "12\n",
      "odd\n",
      "1\n",
      "7\n",
      "23\n"
     ]
    }
   ],
   "source": [
    "public class Hack3 {\n",
    "    public static void main(String[] args) {\n",
    "        ArrayList<Integer> values = new ArrayList<Integer>();\n",
    "        values.add(1);\n",
    "        values.add(4);\n",
    "        values.add(7);\n",
    "        values.add(12);\n",
    "        values.add(23);\n",
    "        System.out.println(\"ArrayList: \" + values);\n",
    "        \n",
    "        System.out.println(\"even\");\n",
    " \n",
    "            for (int i=0; i < values.size(); i++) {\n",
    "                if (values.get(i) % 2 == 0) {\n",
    "                    System.out.println(values.get(i));\n",
    "                }\n",
    "               \n",
    "            }\n",
    "        System.out.println(\"odd\");\n",
    "            for (int i=0; i < values.size(); i++) {\n",
    "                if (values.get(i) % 2 == 1) {\n",
    "                    System.out.println(values.get(i));\n",
    "                }\n",
    "               \n",
    "            }\n",
    "      \n",
    "    }\n",
    "}\n",
    "Hack3.main(null);"
   ]
  },
  {
   "attachments": {},
   "cell_type": "markdown",
   "metadata": {},
   "source": [
    "## Hack 6"
   ]
  },
  {
   "cell_type": "code",
   "execution_count": 32,
   "metadata": {},
   "outputs": [
    {
     "name": "stdout",
     "output_type": "stream",
     "text": [
      "1 2 3 4 \n",
      "5 6 7 8 \n",
      "9 10 11 12 \n",
      "13 14 15 16 \n"
     ]
    }
   ],
   "source": [
    "int[][] array = {{1,2,3,4},{5,6,7,8},{9,10,11,12},{13,14,15,16}};\n",
    "for (int r=0; r< array.length; r++) { \n",
    "    for (int c = 0; c < array[0].length; c++) { \n",
    "        System.out.print(array[r][c] + \" \");\n",
    "    }\n",
    "    System.out.println();\n",
    "}"
   ]
  }
 ],
 "metadata": {
  "kernelspec": {
   "display_name": "Java",
   "language": "java",
   "name": "java"
  },
  "language_info": {
   "codemirror_mode": "java",
   "file_extension": ".jshell",
   "mimetype": "text/x-java-source",
   "name": "java",
   "pygments_lexer": "java",
   "version": "17.0.5+8-Ubuntu-2ubuntu120.04"
  },
  "orig_nbformat": 4
 },
 "nbformat": 4,
 "nbformat_minor": 2
}
