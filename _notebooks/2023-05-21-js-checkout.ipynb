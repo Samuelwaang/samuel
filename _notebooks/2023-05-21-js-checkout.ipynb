{
 "cells": [
  {
   "cell_type": "markdown",
   "metadata": {},
   "source": [
    "# JS checkout - social media api"
   ]
  },
  {
   "cell_type": "code",
   "execution_count": 3,
   "metadata": {},
   "outputs": [
    {
     "data": {
      "text/html": [
       "\n",
       "<body>\n",
       "    hi\n",
       "</body>\n"
      ],
      "text/plain": [
       "<IPython.core.display.HTML object>"
      ]
     },
     "metadata": {},
     "output_type": "display_data"
    }
   ],
   "source": [
    "%%html\n",
    "\n",
    "<body>\n",
    "    hi\n",
    "</body>\n",
    "\n",
    "API_KEY = 3kE9yVpVjpYlBlMOkNkj7CJdo\n",
    "API_KEY_SECRET = c4fly6kS3qErAzRRK3CgdCZdUnJnt3TxhivvsMAa1cgCYIDSSg\n",
    "ACCESS_TOKEN = 1660700426734546944-Li2n3RulJEjw9UKopNSCCcbkurvsXK\n",
    "ACCESS_TOKEN_SECRET = NOnddle1T6Y0j9Wu3tly6NbW1sa2j3eJhUVp2VDAys4sR\n",
    "BEARER_TOKEN = AAAAAAAAAAAAAAAAAAAAAIq6ngEAAAAAbmvRyAEqSlskAamjIl283r1e4B0%3D8HHmtQ4Hi4KoWTTxpYRNh7iyEy96VRJuZLJijUKIkqHRPcDz57\n"
   ]
  },
  {
   "cell_type": "code",
   "execution_count": 22,
   "metadata": {},
   "outputs": [
    {
     "data": {
      "application/javascript": [
       "const settings = {\n",
       "\tasync: true,\n",
       "\tcrossDomain: true,\n",
       "\turl: 'https://twitter135.p.rapidapi.com/Search/?q=elon&count=3',\n",
       "\tmethod: 'GET',\n",
       "\theaders: {\n",
       "\t\t'X-RapidAPI-Key': 'befd3aa94cmsh6c15f9448db64f3p194824jsn7727f7079e12',\n",
       "\t\t'X-RapidAPI-Host': 'twitter135.p.rapidapi.com'\n",
       "\t}\n",
       "};\n",
       "\n",
       "$.ajax(settings).done(function (response) {\n",
       "\tconst tweets = response.globalObjects.tweets;\n",
       "    for (const tweetId in tweets) {\n",
       "      const tweet = tweets[tweetId];\n",
       "      const tweetText = tweet.full_text;\n",
       "      console.log(tweetText);\n",
       "    }\n",
       "});\n",
       "\n"
      ],
      "text/plain": [
       "<IPython.core.display.Javascript object>"
      ]
     },
     "metadata": {},
     "output_type": "display_data"
    }
   ],
   "source": [
    "%%javascript\n",
    "const settings = {\n",
    "\tasync: true,\n",
    "\tcrossDomain: true,\n",
    "\turl: 'https://twitter135.p.rapidapi.com/Search/?q=elon&count=3',\n",
    "\tmethod: 'GET',\n",
    "\theaders: {\n",
    "\t\t'X-RapidAPI-Key': 'befd3aa94cmsh6c15f9448db64f3p194824jsn7727f7079e12',\n",
    "\t\t'X-RapidAPI-Host': 'twitter135.p.rapidapi.com'\n",
    "\t}\n",
    "};\n",
    "\n",
    "$.ajax(settings).done(function (response) {\n",
    "\tconst tweets = response.globalObjects.tweets;\n",
    "    for (const tweetId in tweets) {\n",
    "      const tweet = tweets[tweetId];\n",
    "      const tweetText = tweet.full_text;\n",
    "      console.log(tweetText);\n",
    "    }\n",
    "});\n",
    "\n"
   ]
  },
  {
   "cell_type": "code",
   "execution_count": 24,
   "metadata": {},
   "outputs": [
    {
     "data": {
      "application/javascript": [
       "const settings = {\n",
       "\tasync: true,\n",
       "\tcrossDomain: true,\n",
       "\turl: 'https://instagram-scraper-2022.p.rapidapi.com/ig/hashtag/?hashtag=messi',\n",
       "\tmethod: 'GET',\n",
       "\theaders: {\n",
       "\t\t'X-RapidAPI-Key': 'befd3aa94cmsh6c15f9448db64f3p194824jsn7727f7079e12',\n",
       "\t\t'X-RapidAPI-Host': 'instagram-scraper-2022.p.rapidapi.com'\n",
       "\t}\n",
       "};\n",
       "\n",
       "$.ajax(settings).done(function (response) {\n",
       "\tconsole.log(response.data.profile_pic_url);\n",
       "});\n"
      ],
      "text/plain": [
       "<IPython.core.display.Javascript object>"
      ]
     },
     "metadata": {},
     "output_type": "display_data"
    }
   ],
   "source": [
    "%%javascript\n",
    "const settings = {\n",
    "\tasync: true,\n",
    "\tcrossDomain: true,\n",
    "\turl: 'https://instagram-scraper-2022.p.rapidapi.com/ig/hashtag/?hashtag=messi',\n",
    "\tmethod: 'GET',\n",
    "\theaders: {\n",
    "\t\t'X-RapidAPI-Key': 'befd3aa94cmsh6c15f9448db64f3p194824jsn7727f7079e12',\n",
    "\t\t'X-RapidAPI-Host': 'instagram-scraper-2022.p.rapidapi.com'\n",
    "\t}\n",
    "};\n",
    "\n",
    "$.ajax(settings).done(function (response) {\n",
    "\tconsole.log(response.data.profile_pic_url);\n",
    "});"
   ]
  },
  {
   "cell_type": "code",
   "execution_count": 29,
   "metadata": {},
   "outputs": [
    {
     "data": {
      "application/javascript": [
       "const settings = {\n",
       "\tasync: true,\n",
       "\tcrossDomain: true,\n",
       "\turl: 'https://tiktok-video-no-watermark2.p.rapidapi.com/feed/search?keywords=messi&count=1&cursor=0&region=US&publish_time=1&sort_type=1',\n",
       "\tmethod: 'GET',\n",
       "\theaders: {\n",
       "\t\t'X-RapidAPI-Key': 'befd3aa94cmsh6c15f9448db64f3p194824jsn7727f7079e12',\n",
       "\t\t'X-RapidAPI-Host': 'tiktok-video-no-watermark2.p.rapidapi.com'\n",
       "\t}\n",
       "};\n",
       "\n",
       "$.ajax(settings).done(function (response) {\n",
       "\tconsole.log(response.data.videos[0].play);\n",
       "});\n"
      ],
      "text/plain": [
       "<IPython.core.display.Javascript object>"
      ]
     },
     "metadata": {},
     "output_type": "display_data"
    }
   ],
   "source": [
    "%%javascript\n",
    "const settings = {\n",
    "\tasync: true,\n",
    "\tcrossDomain: true,\n",
    "\turl: 'https://tiktok-video-no-watermark2.p.rapidapi.com/feed/search?keywords=messi&count=1&cursor=0&region=US&publish_time=1&sort_type=1',\n",
    "\tmethod: 'GET',\n",
    "\theaders: {\n",
    "\t\t'X-RapidAPI-Key': 'befd3aa94cmsh6c15f9448db64f3p194824jsn7727f7079e12',\n",
    "\t\t'X-RapidAPI-Host': 'tiktok-video-no-watermark2.p.rapidapi.com'\n",
    "\t}\n",
    "};\n",
    "\n",
    "$.ajax(settings).done(function (response) {\n",
    "\tconsole.log(response.data.videos[0].play);\n",
    "});"
   ]
  }
 ],
 "metadata": {
  "kernelspec": {
   "display_name": "Python 3 (ipykernel)",
   "language": "python",
   "name": "python3"
  },
  "language_info": {
   "codemirror_mode": {
    "name": "ipython",
    "version": 3
   },
   "file_extension": ".py",
   "mimetype": "text/x-python",
   "name": "python",
   "nbconvert_exporter": "python",
   "pygments_lexer": "ipython3",
   "version": "3.9.12"
  }
 },
 "nbformat": 4,
 "nbformat_minor": 2
}
