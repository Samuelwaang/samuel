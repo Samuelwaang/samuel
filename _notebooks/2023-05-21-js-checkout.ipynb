{
 "cells": [
  {
   "cell_type": "markdown",
   "metadata": {},
   "source": [
    "# JS checkout - social media api"
   ]
  },
  {
   "cell_type": "code",
   "execution_count": 3,
   "metadata": {},
   "outputs": [
    {
     "data": {
      "text/html": [
       "\n",
       "<body>\n",
       "    hi\n",
       "</body>\n"
      ],
      "text/plain": [
       "<IPython.core.display.HTML object>"
      ]
     },
     "metadata": {},
     "output_type": "display_data"
    }
   ],
   "source": [
    "%%html\n",
    "\n",
    "<body>\n",
    "    hi\n",
    "</body>\n",
    "\n",
    "API_KEY = 3kE9yVpVjpYlBlMOkNkj7CJdo\n",
    "API_KEY_SECRET = c4fly6kS3qErAzRRK3CgdCZdUnJnt3TxhivvsMAa1cgCYIDSSg\n",
    "ACCESS_TOKEN = 1660700426734546944-Li2n3RulJEjw9UKopNSCCcbkurvsXK\n",
    "ACCESS_TOKEN_SECRET = NOnddle1T6Y0j9Wu3tly6NbW1sa2j3eJhUVp2VDAys4sR\n",
    "BEARER_TOKEN = AAAAAAAAAAAAAAAAAAAAAIq6ngEAAAAAbmvRyAEqSlskAamjIl283r1e4B0%3D8HHmtQ4Hi4KoWTTxpYRNh7iyEy96VRJuZLJijUKIkqHRPcDz57\n"
   ]
  }
 ],
 "metadata": {
  "kernelspec": {
   "display_name": "Python 3 (ipykernel)",
   "language": "python",
   "name": "python3"
  },
  "language_info": {
   "codemirror_mode": {
    "name": "ipython",
    "version": 3
   },
   "file_extension": ".py",
   "mimetype": "text/x-python",
   "name": "python",
   "nbconvert_exporter": "python",
   "pygments_lexer": "ipython3",
   "version": "3.9.6"
  }
 },
 "nbformat": 4,
 "nbformat_minor": 2
}
