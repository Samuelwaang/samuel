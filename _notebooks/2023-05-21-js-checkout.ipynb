{
 "cells": [
  {
   "attachments": {},
   "cell_type": "markdown",
   "metadata": {},
   "source": [
    "# JS checkout - social media api"
   ]
  },
  {
   "attachments": {},
   "cell_type": "markdown",
   "metadata": {},
   "source": [
    "twitter"
   ]
  },
  {
   "cell_type": "code",
   "execution_count": 32,
   "metadata": {},
   "outputs": [
    {
     "data": {
      "application/javascript": "const settings = {\n\tasync: true,\n\tcrossDomain: true,\n\turl: 'https://twitter135.p.rapidapi.com/Search/?q=elon&count=3',\n\tmethod: 'GET',\n\theaders: {\n\t\t'X-RapidAPI-Key': 'befd3aa94cmsh6c15f9448db64f3p194824jsn7727f7079e12',\n\t\t'X-RapidAPI-Host': 'twitter135.p.rapidapi.com'\n\t}\n};\n\n$.ajax(settings).done(function (response) {\n\tconst tweets = response.globalObjects.tweets;\n    for (const tweetId in tweets) {\n      const tweet = tweets[tweetId];\n      const tweetText = tweet.full_text;\n      console.log(tweetText);\n    }\n});\n\n",
      "text/plain": [
       "<IPython.core.display.Javascript object>"
      ]
     },
     "metadata": {},
     "output_type": "display_data"
    }
   ],
   "source": [
    "%%javascript\n",
    "const settings = {\n",
    "\tasync: true,\n",
    "\tcrossDomain: true,\n",
    "\turl: 'https://twitter135.p.rapidapi.com/Search/?q=elon&count=3',\n",
    "\tmethod: 'GET',\n",
    "\theaders: {\n",
    "\t\t'X-RapidAPI-Key': 'befd3aa94cmsh6c15f9448db64f3p194824jsn7727f7079e12',\n",
    "\t\t'X-RapidAPI-Host': 'twitter135.p.rapidapi.com'\n",
    "\t}\n",
    "};\n",
    "\n",
    "$.ajax(settings).done(function (response) {\n",
    "\tconst tweets = response.globalObjects.tweets;\n",
    "    for (const tweetId in tweets) {\n",
    "      const tweet = tweets[tweetId];\n",
    "      const tweetText = tweet.full_text;\n",
    "      console.log(tweetText);\n",
    "    }\n",
    "});\n",
    "\n"
   ]
  },
  {
   "attachments": {},
   "cell_type": "markdown",
   "metadata": {},
   "source": [
    "ig"
   ]
  },
  {
   "cell_type": "code",
   "execution_count": 24,
   "metadata": {},
   "outputs": [
    {
     "data": {
      "application/javascript": "const settings = {\n\tasync: true,\n\tcrossDomain: true,\n\turl: 'https://instagram-scraper-2022.p.rapidapi.com/ig/hashtag/?hashtag=messi',\n\tmethod: 'GET',\n\theaders: {\n\t\t'X-RapidAPI-Key': 'befd3aa94cmsh6c15f9448db64f3p194824jsn7727f7079e12',\n\t\t'X-RapidAPI-Host': 'instagram-scraper-2022.p.rapidapi.com'\n\t}\n};\n\n$.ajax(settings).done(function (response) {\n\tconsole.log(response.data.profile_pic_url);\n});\n",
      "text/plain": [
       "<IPython.core.display.Javascript object>"
      ]
     },
     "metadata": {},
     "output_type": "display_data"
    }
   ],
   "source": [
    "%%javascript\n",
    "const settings = {\n",
    "\tasync: true,\n",
    "\tcrossDomain: true,\n",
    "\turl: 'https://instagram-scraper-2022.p.rapidapi.com/ig/hashtag/?hashtag=messi',\n",
    "\tmethod: 'GET',\n",
    "\theaders: {\n",
    "\t\t'X-RapidAPI-Key': 'befd3aa94cmsh6c15f9448db64f3p194824jsn7727f7079e12',\n",
    "\t\t'X-RapidAPI-Host': 'instagram-scraper-2022.p.rapidapi.com'\n",
    "\t}\n",
    "};\n",
    "\n",
    "$.ajax(settings).done(function (response) {\n",
    "\tconsole.log(response.data.profile_pic_url);\n",
    "});"
   ]
  },
  {
   "attachments": {},
   "cell_type": "markdown",
   "metadata": {},
   "source": [
    "tiktok"
   ]
  },
  {
   "cell_type": "code",
   "execution_count": 29,
   "metadata": {},
   "outputs": [
    {
     "data": {
      "application/javascript": "const settings = {\n\tasync: true,\n\tcrossDomain: true,\n\turl: 'https://tiktok-video-no-watermark2.p.rapidapi.com/feed/search?keywords=messi&count=1&cursor=0&region=US&publish_time=1&sort_type=1',\n\tmethod: 'GET',\n\theaders: {\n\t\t'X-RapidAPI-Key': 'befd3aa94cmsh6c15f9448db64f3p194824jsn7727f7079e12',\n\t\t'X-RapidAPI-Host': 'tiktok-video-no-watermark2.p.rapidapi.com'\n\t}\n};\n\n$.ajax(settings).done(function (response) {\n\tconsole.log(response.data.videos[0].play);\n});\n",
      "text/plain": [
       "<IPython.core.display.Javascript object>"
      ]
     },
     "metadata": {},
     "output_type": "display_data"
    }
   ],
   "source": [
    "%%javascript\n",
    "const settings = {\n",
    "\tasync: true,\n",
    "\tcrossDomain: true,\n",
    "\turl: 'https://tiktok-video-no-watermark2.p.rapidapi.com/feed/search?keywords=messi&count=1&cursor=0&region=US&publish_time=1&sort_type=1',\n",
    "\tmethod: 'GET',\n",
    "\theaders: {\n",
    "\t\t'X-RapidAPI-Key': 'befd3aa94cmsh6c15f9448db64f3p194824jsn7727f7079e12',\n",
    "\t\t'X-RapidAPI-Host': 'tiktok-video-no-watermark2.p.rapidapi.com'\n",
    "\t}\n",
    "};\n",
    "\n",
    "$.ajax(settings).done(function (response) {\n",
    "\tconsole.log(response.data.videos[0].play);\n",
    "});"
   ]
  },
  {
   "attachments": {},
   "cell_type": "markdown",
   "metadata": {},
   "source": [
    "Incorporates twitter api, instagram api, and chatgpt api to output into table the last posts by a user on twitter and instagram"
   ]
  },
  {
   "cell_type": "code",
   "execution_count": 7,
   "metadata": {},
   "outputs": [
    {
     "data": {
      "application/javascript": "\nfunction createTable(jsonData) {\n  const tableData = JSON.parse(jsonData);\n\n  const table = document.createElement('table');\n  table.style.borderCollapse = 'collapse';\n\n\n  const thead = document.createElement('thead');\n  const headerRow = document.createElement('tr');\n\n  for (const key in tableData) {\n    const th = document.createElement('th');\n    th.style.border = '1px solid black';\n    th.textContent = key;\n    headerRow.appendChild(th);\n  }\n\n  thead.appendChild(headerRow);\n  table.appendChild(thead);\n\n\n  const tbody = document.createElement('tbody');\n  const dataRow = document.createElement('tr');\n\n  for (const key in tableData) {\n    const td = document.createElement('td');\n    td.style.border = '1px solid black';\n    td.textContent = tableData[key];\n    dataRow.appendChild(td);\n  }\n\n  tbody.appendChild(dataRow);\n  table.appendChild(tbody);\n\n\n  element.append(table);\n}\n\n\nclass getContent {\n  constructor() {\n    this.user;\n    this.twname;\n    this.igname;\n    this.tw1;\n    this.tw2;\n    this.tw3;\n    this.ig1;\n    this.ig2;\n  }\n\n  twitter(user) {\n    this.user = user;\n    const self = this; \n\n    const settingsgpt = {\n      async: true,\n      crossDomain: true,\n      url: 'https://chatgpt53.p.rapidapi.com/',\n      method: 'POST',\n      headers: {\n        'content-type': 'application/json',\n        'X-RapidAPI-Key': '95853c1888msh0a1187e38da6414p1f7d65jsn31e03536f2e1',\n        'X-RapidAPI-Host': 'chatgpt53.p.rapidapi.com'\n      },\n      processData: false,\n      data: '{\\r\\n    \"messages\": [\\r\\n        {\\r\\n            \"role\": \"user\",\\r\\n            \"content\": \"Please just return the twitter handle of ' + user + 'without the @ \"\\r\\n        }\\r\\n    ]\\r\\n}'\n    };\n\n    $.ajax(settingsgpt).done(function (response) {\n      var twitname = response.choices[0].message.content;\n      self.twname = twitname;\n      console.log(twitname);\n\n      const settingsid = {\n        async: true,\n        crossDomain: true,\n        url: 'https://twitter135.p.rapidapi.com/v2/UserByScreenName/?username=' + twitname,\n        method: 'GET',\n        headers: {\n          'X-RapidAPI-Key': '95853c1888msh0a1187e38da6414p1f7d65jsn31e03536f2e1',\n          'X-RapidAPI-Host': 'twitter135.p.rapidapi.com'\n        }\n      };\n\n      $.ajax(settingsid).done(function (response) {\n        var twitid = response.data.user.result.rest_id;\n        console.log(twitid);\n\n        const settingstwit = {\n          async: true,\n          crossDomain: true,\n          url: 'https://twitter135.p.rapidapi.com/v2/UserTweets/?id=' + twitid + '&count=3',\n          method: 'GET',\n          headers: {\n            'X-RapidAPI-Key': '95853c1888msh0a1187e38da6414p1f7d65jsn31e03536f2e1',\n            'X-RapidAPI-Host': 'twitter135.p.rapidapi.com'\n          }\n        };\n\n        $.ajax(settingstwit).done(function (response) {\n          for (let i = 0; i < 3; i++) {\n            const tweet = response.data.user.result.timeline_v2.timeline.instructions[1].entries[i].content.itemContent.tweet_results.result.legacy.full_text;\n            if (i === 0) {\n              self.tw1 = tweet;\n              console.log(tweet);\n            } else if (i === 1) {\n              self.tw2 = tweet;\n            } else if (i === 2) {\n              self.tw3 = tweet;\n            }\n          }\n        });\n      });\n    });\n  }\n\n  instagram(user) {\n    const self = this;\n    const settingsgpt = {\n      async: true,\n      crossDomain: true,\n      url: 'https://chatgpt53.p.rapidapi.com/',\n      method: 'POST',\n      headers: {\n        'content-type': 'application/json',\n        'X-RapidAPI-Key': 'befd3aa94cmsh6c15f9448db64f3p194824jsn7727f7079e12',\n        'X-RapidAPI-Host': 'chatgpt53.p.rapidapi.com'\n      },\n      processData: false,\n      data: '{\\r\\n    \"messages\": [\\r\\n        {\\r\\n            \"role\": \"user\",\\r\\n            \"content\": \"Please just return the instagram handle of ' + user + 'without the @ \"\\r\\n        }\\r\\n    ]\\r\\n}'\n    };\n\n    $.ajax(settingsgpt).done(function (response) {\n      var igname = response.choices[0].message.content;\n      self.igname = igname;\n      console.log(igname);\n\n      const settingspost = {\n        async: true,\n        crossDomain: true,\n        url: 'https://instagram-scraper-2022.p.rapidapi.com/ig/posts_username/?user=' + igname,\n        method: 'GET',\n        headers: {\n          'X-RapidAPI-Key': '4d1a3c9588msh66b49b43046b339p12b3fajsnd3129dec4216',\n          'X-RapidAPI-Host': 'instagram-scraper-2022.p.rapidapi.com'\n        }\n      };\n\n      $.ajax(settingspost).done(function (response) {\n        for (let i = 0; i < 2; i++) {\n          const post = response.data.user.edge_owner_to_timeline_media.edges[i].node.thumbnail_src;\n          if (i === 0) {\n            self.ig1 = post;\n            console.log(self.ig1);\n          } else if (i === 1) {\n            self.ig2 = post;\n            console.log(self.ig2);\n          }\n        }\n      });\n    });\n  }\n\n  getJSON() {\n    const obj = {\n      name: this.user,\n      twittername: this.twname,\n      instagramname: this.igname,\n      twitterpost1: this.tw1,\n      twitterpost2: this.tw2,\n      twitterpost3: this.tw3,\n      instagrampost1: this.ig1,\n      instagrampost2: this.ig2\n    };\n    const json = JSON.stringify(obj);\n    return json;\n  }\n}\n\n\nconst user = new getContent();\n\nconst nameuser = 'elon musk';\nuser.twitter(nameuser);\nuser.instagram(nameuser);\n\n// wait for ajax requests to finish\nsetTimeout(function () {\n  const jsonData = user.getJSON();\n  createTable(jsonData);\n}, 10000);\n",
      "text/plain": [
       "<IPython.core.display.Javascript object>"
      ]
     },
     "metadata": {},
     "output_type": "display_data"
    }
   ],
   "source": [
    "%%javascript\n",
    "\n",
    "function createTable(jsonData) {\n",
    "  const tableData = JSON.parse(jsonData);\n",
    "\n",
    "  const table = document.createElement('table');\n",
    "  table.style.borderCollapse = 'collapse';\n",
    "\n",
    "\n",
    "  const thead = document.createElement('thead');\n",
    "  const headerRow = document.createElement('tr');\n",
    "\n",
    "  for (const key in tableData) {\n",
    "    const th = document.createElement('th');\n",
    "    th.style.border = '1px solid black';\n",
    "    th.textContent = key;\n",
    "    headerRow.appendChild(th);\n",
    "  }\n",
    "\n",
    "  thead.appendChild(headerRow);\n",
    "  table.appendChild(thead);\n",
    "\n",
    "\n",
    "  const tbody = document.createElement('tbody');\n",
    "  const dataRow = document.createElement('tr');\n",
    "\n",
    "  for (const key in tableData) {\n",
    "    const td = document.createElement('td');\n",
    "    td.style.border = '1px solid black';\n",
    "    td.textContent = tableData[key];\n",
    "    dataRow.appendChild(td);\n",
    "  }\n",
    "\n",
    "  tbody.appendChild(dataRow);\n",
    "  table.appendChild(tbody);\n",
    "\n",
    "\n",
    "  element.append(table);\n",
    "}\n",
    "\n",
    "\n",
    "class getContent {\n",
    "  constructor() {\n",
    "    this.user;\n",
    "    this.twname;\n",
    "    this.igname;\n",
    "    this.tw1;\n",
    "    this.tw2;\n",
    "    this.tw3;\n",
    "    this.ig1;\n",
    "    this.ig2;\n",
    "  }\n",
    "\n",
    "  twitter(user) {\n",
    "    this.user = user;\n",
    "    const self = this; \n",
    "\n",
    "    const settingsgpt = {\n",
    "      async: true,\n",
    "      crossDomain: true,\n",
    "      url: 'https://chatgpt53.p.rapidapi.com/',\n",
    "      method: 'POST',\n",
    "      headers: {\n",
    "        'content-type': 'application/json',\n",
    "        'X-RapidAPI-Key': '95853c1888msh0a1187e38da6414p1f7d65jsn31e03536f2e1',\n",
    "        'X-RapidAPI-Host': 'chatgpt53.p.rapidapi.com'\n",
    "      },\n",
    "      processData: false,\n",
    "      data: '{\\r\\n    \"messages\": [\\r\\n        {\\r\\n            \"role\": \"user\",\\r\\n            \"content\": \"Please just return the twitter handle of ' + user + 'without the @ \"\\r\\n        }\\r\\n    ]\\r\\n}'\n",
    "    };\n",
    "\n",
    "    $.ajax(settingsgpt).done(function (response) {\n",
    "      var twitname = response.choices[0].message.content;\n",
    "      self.twname = twitname;\n",
    "      console.log(twitname);\n",
    "\n",
    "      const settingsid = {\n",
    "        async: true,\n",
    "        crossDomain: true,\n",
    "        url: 'https://twitter135.p.rapidapi.com/v2/UserByScreenName/?username=' + twitname,\n",
    "        method: 'GET',\n",
    "        headers: {\n",
    "          'X-RapidAPI-Key': '95853c1888msh0a1187e38da6414p1f7d65jsn31e03536f2e1',\n",
    "          'X-RapidAPI-Host': 'twitter135.p.rapidapi.com'\n",
    "        }\n",
    "      };\n",
    "\n",
    "      $.ajax(settingsid).done(function (response) {\n",
    "        var twitid = response.data.user.result.rest_id;\n",
    "        console.log(twitid);\n",
    "\n",
    "        const settingstwit = {\n",
    "          async: true,\n",
    "          crossDomain: true,\n",
    "          url: 'https://twitter135.p.rapidapi.com/v2/UserTweets/?id=' + twitid + '&count=3',\n",
    "          method: 'GET',\n",
    "          headers: {\n",
    "            'X-RapidAPI-Key': '95853c1888msh0a1187e38da6414p1f7d65jsn31e03536f2e1',\n",
    "            'X-RapidAPI-Host': 'twitter135.p.rapidapi.com'\n",
    "          }\n",
    "        };\n",
    "\n",
    "        $.ajax(settingstwit).done(function (response) {\n",
    "          for (let i = 0; i < 3; i++) {\n",
    "            const tweet = response.data.user.result.timeline_v2.timeline.instructions[1].entries[i].content.itemContent.tweet_results.result.legacy.full_text;\n",
    "            if (i === 0) {\n",
    "              self.tw1 = tweet;\n",
    "              console.log(tweet);\n",
    "            } else if (i === 1) {\n",
    "              self.tw2 = tweet;\n",
    "            } else if (i === 2) {\n",
    "              self.tw3 = tweet;\n",
    "            }\n",
    "          }\n",
    "        });\n",
    "      });\n",
    "    });\n",
    "  }\n",
    "\n",
    "  instagram(user) {\n",
    "    const self = this;\n",
    "    const settingsgpt = {\n",
    "      async: true,\n",
    "      crossDomain: true,\n",
    "      url: 'https://chatgpt53.p.rapidapi.com/',\n",
    "      method: 'POST',\n",
    "      headers: {\n",
    "        'content-type': 'application/json',\n",
    "        'X-RapidAPI-Key': 'befd3aa94cmsh6c15f9448db64f3p194824jsn7727f7079e12',\n",
    "        'X-RapidAPI-Host': 'chatgpt53.p.rapidapi.com'\n",
    "      },\n",
    "      processData: false,\n",
    "      data: '{\\r\\n    \"messages\": [\\r\\n        {\\r\\n            \"role\": \"user\",\\r\\n            \"content\": \"Please just return the instagram handle of ' + user + 'without the @ \"\\r\\n        }\\r\\n    ]\\r\\n}'\n",
    "    };\n",
    "\n",
    "    $.ajax(settingsgpt).done(function (response) {\n",
    "      var igname = response.choices[0].message.content;\n",
    "      self.igname = igname;\n",
    "      console.log(igname);\n",
    "\n",
    "      const settingspost = {\n",
    "        async: true,\n",
    "        crossDomain: true,\n",
    "        url: 'https://instagram-scraper-2022.p.rapidapi.com/ig/posts_username/?user=' + igname,\n",
    "        method: 'GET',\n",
    "        headers: {\n",
    "          'X-RapidAPI-Key': '4d1a3c9588msh66b49b43046b339p12b3fajsnd3129dec4216',\n",
    "          'X-RapidAPI-Host': 'instagram-scraper-2022.p.rapidapi.com'\n",
    "        }\n",
    "      };\n",
    "\n",
    "      $.ajax(settingspost).done(function (response) {\n",
    "        for (let i = 0; i < 2; i++) {\n",
    "          const post = response.data.user.edge_owner_to_timeline_media.edges[i].node.thumbnail_src;\n",
    "          if (i === 0) {\n",
    "            self.ig1 = post;\n",
    "            console.log(self.ig1);\n",
    "          } else if (i === 1) {\n",
    "            self.ig2 = post;\n",
    "            console.log(self.ig2);\n",
    "          }\n",
    "        }\n",
    "      });\n",
    "    });\n",
    "  }\n",
    "\n",
    "  getJSON() {\n",
    "    const obj = {\n",
    "      name: this.user,\n",
    "      twittername: this.twname,\n",
    "      instagramname: this.igname,\n",
    "      twitterpost1: this.tw1,\n",
    "      twitterpost2: this.tw2,\n",
    "      twitterpost3: this.tw3,\n",
    "      instagrampost1: this.ig1,\n",
    "      instagrampost2: this.ig2\n",
    "    };\n",
    "    const json = JSON.stringify(obj);\n",
    "    return json;\n",
    "  }\n",
    "}\n",
    "\n",
    "\n",
    "const user = new getContent();\n",
    "\n",
    "const nameuser = 'elon musk';\n",
    "user.twitter(nameuser);\n",
    "user.instagram(nameuser);\n",
    "\n",
    "// wait for ajax requests to finish\n",
    "setTimeout(function () {\n",
    "  const jsonData = user.getJSON();\n",
    "  createTable(jsonData);\n",
    "}, 10000);\n"
   ]
  },
  {
   "cell_type": "code",
   "execution_count": null,
   "metadata": {},
   "outputs": [],
   "source": []
  }
 ],
 "metadata": {
  "kernelspec": {
   "display_name": "Python 3 (ipykernel)",
   "language": "python",
   "name": "python3"
  },
  "language_info": {
   "codemirror_mode": {
    "name": "ipython",
    "version": 3
   },
   "file_extension": ".py",
   "mimetype": "text/x-python",
   "name": "python",
   "nbconvert_exporter": "python",
   "pygments_lexer": "ipython3",
   "version": "3.9.12"
  }
 },
 "nbformat": 4,
 "nbformat_minor": 2
}
