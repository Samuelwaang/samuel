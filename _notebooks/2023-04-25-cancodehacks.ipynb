{
 "cells": [
  {
   "attachments": {},
   "cell_type": "markdown",
   "metadata": {},
   "source": [
    "# cancode Hacks\n",
    "\n",
    "- toc: false\n",
    "- badges: true\n",
    "- comments: true\n",
    "- author: Samuel\n",
    "- categories: [fastpages, CB]\n",
    "- image: images/picture.jpg"
   ]
  },
  {
   "attachments": {},
   "cell_type": "markdown",
   "metadata": {},
   "source": [
    "# Unit 9 "
   ]
  },
  {
   "attachments": {},
   "cell_type": "markdown",
   "metadata": {},
   "source": [
    "## hack 1"
   ]
  },
  {
   "cell_type": "code",
   "execution_count": 8,
   "metadata": {},
   "outputs": [
    {
     "name": "stdout",
     "output_type": "stream",
     "text": [
      "honk\n",
      "big car\n"
     ]
    }
   ],
   "source": [
    "class Vehicle {\n",
    "    public String name;\n",
    "    public Vehicle(String name){\n",
    "        this.name = name;\n",
    "    }\n",
    "    public void honk() {\n",
    "        System.out.println(\"honk\");\n",
    "    }\n",
    "    // methods and attribute\n",
    "\n",
    "}\n",
    "\n",
    "class Car extends Vehicle {\n",
    "\n",
    "    public Car(String name) {\n",
    "        super(name);\n",
    "    }\n",
    "    public String toString(){\n",
    "        return name;\n",
    "    }\n",
    "    public static void main(String[] args) {\n",
    "        Car car1 = new Car(\"big car\");\n",
    "        car1.honk();\n",
    "        System.out.println(car1.toString());\n",
    "    }\n",
    "\n",
    "}\n",
    "\n",
    "Car.main(null);"
   ]
  },
  {
   "attachments": {},
   "cell_type": "markdown",
   "metadata": {},
   "source": [
    "## hack 2"
   ]
  },
  {
   "cell_type": "code",
   "execution_count": 16,
   "metadata": {},
   "outputs": [
    {
     "name": "stdout",
     "output_type": "stream",
     "text": [
      "white 12\n",
      "pink 1000\n"
     ]
    }
   ],
   "source": [
    "public class animal {\n",
    "    public String color;     \n",
    "    public animal(String color){\n",
    "        this.color = color;\n",
    "    }\n",
    "    public void talk() {\n",
    "        System.out.println(\"hi\");\n",
    "    }\n",
    "}\n",
    "public class rabbit extends animal{\n",
    "    public int height;\n",
    "    public rabbit(String color, int height) {\n",
    "        super(color);\n",
    "        this.height = height;\n",
    "    }\n",
    "    public void talk(){\n",
    "        super.talk();\n",
    "        System.out.println(\"hello\");\n",
    "    }\n",
    "    public String toString() {\n",
    "        return color + \" \" + height;\n",
    "    }\n",
    "\n",
    "}\n",
    "public class pig extends animal {\n",
    "    public int weight;\n",
    "    public pig(String color, int weight) {\n",
    "        super(color);\n",
    "        this.weight = weight;\n",
    "    }\n",
    "    public void talk(){\n",
    "        super.talk();\n",
    "        System.out.println(\"oink\");\n",
    "    }\n",
    "    public String toString(){\n",
    "        return color + \" \" + weight;\n",
    "    }\n",
    "}\n",
    "public class Main {\n",
    "    public static void main(String[] args) {\n",
    "        rabbit rabbit1 = new rabbit(\"white\", 12);\n",
    "        pig pig1 = new pig(\"pink\", 1000);\n",
    "        System.out.println(rabbit1.toString());\n",
    "        System.out.println(pig1.toString());\n",
    "    }\n",
    "}\n",
    "Main.main(null);"
   ]
  }
 ],
 "metadata": {
  "kernelspec": {
   "display_name": "Java",
   "language": "java",
   "name": "java"
  },
  "language_info": {
   "codemirror_mode": "java",
   "file_extension": ".jshell",
   "mimetype": "text/x-java-source",
   "name": "java",
   "pygments_lexer": "java",
   "version": "17.0.5+8-Ubuntu-2ubuntu120.04"
  },
  "orig_nbformat": 4
 },
 "nbformat": 4,
 "nbformat_minor": 2
}
