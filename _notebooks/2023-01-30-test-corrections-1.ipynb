{
 "cells": [
  {
   "attachments": {},
   "cell_type": "markdown",
   "metadata": {},
   "source": [
    "# Test Corrections 52 Questions\n",
    "\n",
    "- toc: false\n",
    "- badges: true\n",
    "- comments: true\n",
    "- author: Samuel\n",
    "- categories: [fastpages, CB]\n",
    "- image: images/picture.jpg\n",
    "\n",
    "\n"
   ]
  },
  {
   "attachments": {},
   "cell_type": "markdown",
   "metadata": {},
   "source": [
    "## Score"
   ]
  },
  {
   "attachments": {},
   "cell_type": "markdown",
   "metadata": {},
   "source": [
    "![score](images/score1.PNG)"
   ]
  },
  {
   "attachments": {},
   "cell_type": "markdown",
   "metadata": {},
   "source": [
    "## Test Corrections"
   ]
  },
  {
   "attachments": {},
   "cell_type": "markdown",
   "metadata": {},
   "source": [
    "![a](images/a3.PNG)"
   ]
  },
  {
   "attachments": {},
   "cell_type": "markdown",
   "metadata": {},
   "source": [
    "The answer is D. I got confused with the order of the for loops so I messed up on that one."
   ]
  },
  {
   "attachments": {},
   "cell_type": "markdown",
   "metadata": {},
   "source": [
    "![a](images/a18.PNG)"
   ]
  },
  {
   "attachments": {},
   "cell_type": "markdown",
   "metadata": {},
   "source": [
    "The answer is D, as this finds the positive difference between num and val and finds if it less than minDiff, which will find which num is closest to the val. The answer I chose only found if the num was larger than val."
   ]
  },
  {
   "attachments": {},
   "cell_type": "markdown",
   "metadata": {},
   "source": [
    "![a](images/a21.PNG)"
   ]
  },
  {
   "attachments": {},
   "cell_type": "markdown",
   "metadata": {},
   "source": [
    "The variables j and k have the same values 5 times, which happens at 0,1,2,3,4. So, println is called 5 times."
   ]
  },
  {
   "attachments": {},
   "cell_type": "markdown",
   "metadata": {},
   "source": [
    "![a](images/a35.PNG)"
   ]
  },
  {
   "attachments": {},
   "cell_type": "markdown",
   "metadata": {},
   "source": [
    "The answer I chose was what would happen if the statement printed the value at index k. It prints values that are greater than its index."
   ]
  },
  {
   "attachments": {},
   "cell_type": "markdown",
   "metadata": {},
   "source": [
    "![a](images/a48.PNG)"
   ]
  },
  {
   "attachments": {},
   "cell_type": "markdown",
   "metadata": {},
   "source": [
    "I only chose option 2 when option 1 was also a correct answer. The first option calls the get method to get a Value object. The second is correct as it uses an enhanced for loop to call getNum to access num."
   ]
  },
  {
   "attachments": {},
   "cell_type": "markdown",
   "metadata": {},
   "source": [
    "I did a lot better on this mc compared to past ones. However, I still have to pay attention more when traversing for loops as I often get confused or lose track of where I am. Otherwise, I didn't have too many difficulties."
   ]
  },
  {
   "cell_type": "code",
   "execution_count": 12,
   "metadata": {
    "vscode": {
     "languageId": "java"
    }
   },
   "outputs": [],
   "source": [
    "public abstract class Generics {\n",
    "\tpublic final String masterType = \"Generic\";\n",
    "\tprivate String type;\t// extender should define their data type\n",
    "\n",
    "\t// generic enumerated interface\n",
    "\tpublic interface KeyTypes {\n",
    "\t\tString name();\n",
    "\t}\n",
    "\tprotected abstract KeyTypes getKey();  \t// this method helps force usage of KeyTypes\n",
    "\n",
    "\t// getter\n",
    "\tpublic String getMasterType() {\n",
    "\t\treturn masterType;\n",
    "\t}\n",
    "\n",
    "\t// getter\n",
    "\tpublic String getType() {\n",
    "\t\treturn type;\n",
    "\t}\n",
    "\n",
    "\t// setter\n",
    "\tpublic void setType(String type) {\n",
    "\t\tthis.type = type;\n",
    "\t}\n",
    "\t\n",
    "\t// this method is used to establish key order\n",
    "\tpublic abstract String toString();\n",
    "\n",
    "\t// static print method used by extended classes\n",
    "\tpublic static void print(Generics[] objs) {\n",
    "\t\t// print 'Object' properties\n",
    "\t\tSystem.out.println(objs.getClass() + \" \" + objs.length);\n",
    "\n",
    "\t\t// print 'Generics' properties\n",
    "\t\tif (objs.length > 0) {\n",
    "\t\t\tGenerics obj = objs[0];\t// Look at properties of 1st element\n",
    "\t\t\tSystem.out.println(\n",
    "\t\t\t\t\tobj.getMasterType() + \": \" + \n",
    "\t\t\t\t\tobj.getType() +\n",
    "\t\t\t\t\t\" listed by \" +\n",
    "\t\t\t\t\tobj.getKey());\n",
    "\t\t}\n",
    "\n",
    "\t\t// print \"Generics: Objects'\n",
    "\t\tfor(Object o : objs)\t// observe that type is Opaque\n",
    "\t\t\tSystem.out.println(o);\n",
    "\n",
    "\t\tSystem.out.println();\n",
    "\t}\n",
    "}"
   ]
  },
  {
   "cell_type": "code",
   "execution_count": 13,
   "metadata": {
    "vscode": {
     "languageId": "java"
    }
   },
   "outputs": [
    {
     "name": "stdout",
     "output_type": "stream",
     "text": [
      "class [LREPL.$JShell$32$Alphabet; 26\n",
      "Generic: Alphabet listed by title\n",
      "Alphabet: A\n",
      "Alphabet: B\n",
      "Alphabet: C\n",
      "Alphabet: D\n",
      "Alphabet: E\n",
      "Alphabet: F\n",
      "Alphabet: G\n",
      "Alphabet: H\n",
      "Alphabet: I\n",
      "Alphabet: J\n",
      "Alphabet: K\n",
      "Alphabet: L\n",
      "Alphabet: M\n",
      "Alphabet: N\n",
      "Alphabet: O\n",
      "Alphabet: P\n",
      "Alphabet: Q\n",
      "Alphabet: R\n",
      "Alphabet: S\n",
      "Alphabet: T\n",
      "Alphabet: U\n",
      "Alphabet: V\n",
      "Alphabet: W\n",
      "Alphabet: X\n",
      "Alphabet: Y\n",
      "Alphabet: Z\n",
      "\n",
      "class [LREPL.$JShell$32$Alphabet; 26\n",
      "Generic: Alphabet listed by letter\n",
      "A\n",
      "B\n",
      "C\n",
      "D\n",
      "E\n",
      "F\n",
      "G\n",
      "H\n",
      "I\n",
      "J\n",
      "K\n",
      "L\n",
      "M\n",
      "N\n",
      "O\n",
      "P\n",
      "Q\n",
      "R\n",
      "S\n",
      "T\n",
      "U\n",
      "V\n",
      "W\n",
      "X\n",
      "Y\n",
      "Z\n",
      "\n"
     ]
    }
   ],
   "source": [
    "public class Alphabet extends Generics {\n",
    "\t// Class data\n",
    "\tpublic static KeyTypes key = KeyType.title;  // static initializer\n",
    "\tpublic static void setOrder(KeyTypes key) {Alphabet.key = key;}\n",
    "\tpublic enum KeyType implements KeyTypes {title, letter}\n",
    "\tprivate static final int size = 26;  // constant used in data initialization\n",
    "\n",
    "\t// Instance data\n",
    "\tprivate final char letter;\n",
    "\t\n",
    "\t/*\n",
    "\t * single letter object\n",
    "\t */\n",
    "\tpublic Alphabet(char letter)\n",
    "\t{\n",
    "\t\tthis.setType(\"Alphabet\");\n",
    "\t\tthis.letter = letter;\n",
    "\t}\n",
    "\n",
    "\t/* 'Generics' requires getKey to help enforce KeyTypes usage */\n",
    "\t@Override\n",
    "\tprotected KeyTypes getKey() { return Alphabet.key; }\n",
    "\n",
    "\t/* 'Generics' requires toString override\n",
    "\t * toString provides data based off of Static Key setting\n",
    "\t */\n",
    "\t@Override\n",
    "\tpublic String toString()\n",
    "\t{\n",
    "\t\tString output=\"\";\n",
    "\t\tif (KeyType.letter.equals(this.getKey())) {\n",
    "\t\t\toutput += this.letter;\n",
    "\t\t} else {\n",
    "\t\t\toutput += super.getType() + \": \" + this.letter;\n",
    "\t\t}\n",
    "\t\treturn output;\n",
    "\t}\n",
    "\n",
    "\t// Test data initializer for upper case Alphabet\n",
    "\tpublic static Alphabet[] alphabetData()\n",
    "\t{\n",
    "\t\tAlphabet[] alphabet = new Alphabet[Alphabet.size];\n",
    "\t\tfor (int i = 0; i < Alphabet.size; i++)\n",
    "\t\t{\n",
    "\t\t\talphabet[i] = new Alphabet( (char)('A' + i) );\n",
    "\t\t} \t\n",
    "\t\treturn alphabet;\n",
    "\t}\n",
    "\t\n",
    "\t/* \n",
    "\t * main to test Animal class\n",
    "\t */\n",
    "\tpublic static void main(String[] args)\n",
    "\t{\n",
    "\t\t// Inheritance Hierarchy\n",
    "\t\tAlphabet[] objs = alphabetData();\n",
    "\n",
    "\t\t// print with title\n",
    "\t\tAlphabet.setOrder(KeyType.title);\n",
    "\t\tAlphabet.print(objs);\n",
    "\n",
    "\t\t// print letter only\n",
    "\t\tAlphabet.setOrder(KeyType.letter);\n",
    "\t\tAlphabet.print(objs);\n",
    "\t}\n",
    "\t\n",
    "}\n",
    "Alphabet.main(null);"
   ]
  }
 ],
 "metadata": {
  "kernelspec": {
   "display_name": "Java",
   "language": "java",
   "name": "java"
  },
  "language_info": {
   "codemirror_mode": "java",
   "file_extension": ".jshell",
   "mimetype": "text/x-java-source",
   "name": "Java",
   "pygments_lexer": "java",
   "version": "17.0.5+8-Ubuntu-2ubuntu120.04"
  },
  "orig_nbformat": 4,
  "vscode": {
   "interpreter": {
    "hash": "916dbcbb3f70747c44a77c7bcd40155683ae19c65e1c03b4aa3499c5328201f1"
   }
  }
 },
 "nbformat": 4,
 "nbformat_minor": 2
}
