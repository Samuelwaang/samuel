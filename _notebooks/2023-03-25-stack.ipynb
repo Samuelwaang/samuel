{
 "cells": [
  {
   "cell_type": "markdown",
   "metadata": {},
   "source": [
    "# Collections\n",
    "\n",
    "- toc: false\n",
    "- badges: true\n",
    "- comments: true\n",
    "- author: Samuel\n",
    "- categories: [fastpages, CB]\n",
    "- image: images/picture.jpg\n",
    "\n",
    "\n"
   ]
  },
  {
   "cell_type": "code",
   "execution_count": 2,
   "metadata": {},
   "outputs": [
    {
     "name": "stdout",
     "output_type": "stream",
     "text": [
      "Stack is full.\n",
      "Peek: 5\n",
      "Pop: 5\n",
      "Pop: 4\n",
      "Peek: 3\n"
     ]
    }
   ],
   "source": [
    "public class Stack {\n",
    "\n",
    "    private int[] arr;\n",
    "    private int top;\n",
    "    private int capacity;\n",
    "\n",
    "    public Stack(int size) {\n",
    "        arr = new int[size];\n",
    "        capacity = size;\n",
    "        top = -1;\n",
    "    }\n",
    "\n",
    "    public void push(int x) {\n",
    "        if (isFull()) {\n",
    "            System.out.println(\"Stack is full.\");\n",
    "            return;\n",
    "        }\n",
    "        arr[++top] = x;\n",
    "    }\n",
    "\n",
    "    public int pop() {\n",
    "        if (isEmpty()) {\n",
    "            System.out.println(\"Stack is empty.\");\n",
    "            return -1;\n",
    "        }\n",
    "        return arr[top--];\n",
    "    }\n",
    "\n",
    "    public int peek() {\n",
    "        if (isEmpty()) {\n",
    "            System.out.println(\"Stack is empty.\");\n",
    "            return -1;\n",
    "        }\n",
    "        return arr[top];\n",
    "    }\n",
    "\n",
    "    public boolean isEmpty() {\n",
    "        return top == -1;\n",
    "    }\n",
    "\n",
    "    public boolean isFull() {\n",
    "        return top == capacity - 1;\n",
    "    }\n",
    "\n",
    "    public static void main(String[] args) {\n",
    "        Stack stack = new Stack(5);\n",
    "        stack.push(1);\n",
    "        stack.push(2);\n",
    "        stack.push(3);\n",
    "        stack.push(4);\n",
    "        stack.push(5);\n",
    "        stack.push(6);\n",
    "        System.out.println(\"Peek: \" + stack.peek());\n",
    "        System.out.println(\"Pop: \" + stack.pop());\n",
    "        System.out.println(\"Pop: \" + stack.pop());\n",
    "        System.out.println(\"Peek: \" + stack.peek());\n",
    "        \n",
    "    }\n",
    "}\n",
    "Stack.main(null);\n"
   ]
  }
 ],
 "metadata": {
  "kernelspec": {
   "display_name": "Java",
   "language": "java",
   "name": "java"
  },
  "language_info": {
   "codemirror_mode": "java",
   "file_extension": ".jshell",
   "mimetype": "text/x-java-source",
   "name": "java",
   "pygments_lexer": "java",
   "version": "17.0.5+8-Ubuntu-2ubuntu120.04"
  },
  "orig_nbformat": 4
 },
 "nbformat": 4,
 "nbformat_minor": 2
}
