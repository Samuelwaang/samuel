{
 "cells": [
  {
   "cell_type": "code",
   "execution_count": 25,
   "metadata": {},
   "outputs": [
    {
     "ename": "CompilationException",
     "evalue": "",
     "output_type": "error",
     "traceback": [
      "\u001b[1m\u001b[30m|   \u001b[1m\u001b[30m        int id = \u001b[0m\u001b[1m\u001b[30m\u001b[41mid\u001b[0m\u001b[1m\u001b[30m + 1;\u001b[0m",
      "\u001b[1m\u001b[31mvariable id might not have been initialized\u001b[0m",
      ""
     ]
    }
   ],
   "source": [
    "import java.util.Random;\n",
    "public class Book {\n",
    "    String title;\n",
    "    int id = 0;\n",
    "    public Book(String book){\n",
    "        String title = book;\n",
    "        int id = id + 1;\n",
    "    }\n",
    "    public String toString(){\n",
    "        return(title+id);\n",
    "    }\n",
    "    public static void main(String[] args) {\n",
    "        Book book1 = new Book(\"d\");\n",
    "    }\n",
    "}\n",
    "Book.main(null);"
   ]
  },
  {
   "cell_type": "code",
   "execution_count": 31,
   "metadata": {},
   "outputs": [
    {
     "name": "stdout",
     "output_type": "stream",
     "text": [
      "Book: book1, id: 760\n",
      "Book: book2, id: 972\n",
      "bookcount: 2\n",
      "1008\n",
      "1009\n"
     ]
    }
   ],
   "source": [
    "import java.util.Random;\n",
    "public class Book {\n",
    "    public String title;\n",
    "    public static int count;\n",
    "    private final Date creationDate;\n",
    "    public Book(String title){\n",
    "        this.title = title;\n",
    "        this.creationDate = new Date();\n",
    "    }\n",
    "    public int makeId(){\n",
    "        Random random = new Random();\n",
    "        int id = random.nextInt(1000);\n",
    "        count++;\n",
    "        return id;\n",
    "    }\n",
    "    public int getCount(){\n",
    "        return count;\n",
    "    }\n",
    "    public String toString(){\n",
    "        return this.title;\n",
    "    }\n",
    "\n",
    "    public long shelfLife() {\n",
    "        Date currentDate= new Date();\n",
    "        long timeDiff = Math.abs(this.creationDate.getTime()- currentDate.getTime());\n",
    "        return timeDiff;\n",
    "    }\n",
    "\n",
    "    public static void main(String[] args){\n",
    "        try {\n",
    "            Book book1 = new Book(\"book1\");\n",
    "            Book book2 = new Book(\"book2\");\n",
    "            Thread.sleep(1000);\n",
    "            System.out.println(\"Book: \" + book1.toString() + \", id: \" + book1.makeId());\n",
    "            System.out.println(\"Book: \" + book2.toString() + \", id: \" + book2.makeId());\n",
    "            System.out.println(\"bookcount: \" + count);\n",
    "            \n",
    "            System.out.println(book1.shelfLife());\n",
    "            System.out.println(book2.shelfLife());\n",
    "        }\n",
    "        catch (Exception e) {\n",
    "            System.out.println(\"error\");\n",
    "        }\n",
    "\n",
    "    }\n",
    "}\n",
    "Book.main(null);"
   ]
  },
  {
   "cell_type": "code",
   "execution_count": 36,
   "metadata": {},
   "outputs": [
    {
     "name": "stdout",
     "output_type": "stream",
     "text": [
      "novel1\n",
      "1\n",
      "novel2\n",
      "2\n"
     ]
    }
   ],
   "source": [
    "public class Novel extends Book{\n",
    "    public String author; \n",
    "    public Novel(String title){\n",
    "        super(title);\n",
    "    }\n",
    "    public void author(String author){\n",
    "        this.author = author;\n",
    "    }\n",
    "    public String getAuthor(){\n",
    "        return author;\n",
    "    }\n",
    "    public static void main(String[] args){\n",
    "        Novel novel1 = new Novel(\"novel1\");\n",
    "        Novel novel2 = new Novel(\"novel2\");\n",
    "        System.out.println(novel1.toString());\n",
    "        System.out.println(novel1.shelfLife());\n",
    "        System.out.println(novel2.toString());\n",
    "        System.out.println(novel2.shelfLife());\n",
    "    }\n",
    "}\n",
    "Novel.main(null);"
   ]
  },
  {
   "cell_type": "code",
   "execution_count": 35,
   "metadata": {},
   "outputs": [
    {
     "name": "stdout",
     "output_type": "stream",
     "text": [
      "textbook1\n",
      "22\n",
      "textbook2\n",
      "23\n"
     ]
    }
   ],
   "source": [
    "public class Textbook extends Book{\n",
    "    public String publisher;\n",
    "    public Textbook(String title){\n",
    "        super(title);\n",
    "    }\n",
    "    public void publisher(String publisher){\n",
    "        this.publisher = publisher;\n",
    "    }\n",
    "    public String getPublisher(){\n",
    "        return publisher;\n",
    "    }\n",
    "    public static void main(String[] args){\n",
    "        Textbook textbook1 = new Textbook(\"textbook1\");\n",
    "        Textbook textbook2 = new Textbook(\"textbook2\");\n",
    "        System.out.println(textbook1.toString());\n",
    "        System.out.println(textbook1.shelfLife());\n",
    "        System.out.println(textbook2.toString());\n",
    "        System.out.println(textbook2.shelfLife());\n",
    "    }\n",
    "}\n",
    "Textbook.main(null);"
   ]
  }
 ],
 "metadata": {
  "kernelspec": {
   "display_name": "Java",
   "language": "java",
   "name": "java"
  },
  "language_info": {
   "codemirror_mode": "java",
   "file_extension": ".jshell",
   "mimetype": "text/x-java-source",
   "name": "java",
   "pygments_lexer": "java",
   "version": "17.0.5+8-Ubuntu-2ubuntu120.04"
  },
  "orig_nbformat": 4
 },
 "nbformat": 4,
 "nbformat_minor": 2
}
