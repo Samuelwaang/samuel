{
 "cells": [
  {
   "attachments": {},
   "cell_type": "markdown",
   "metadata": {},
   "source": [
    "# Sort\n",
    "\n",
    "- toc: false\n",
    "- badges: true\n",
    "- comments: true\n",
    "- author: Samuel\n",
    "- categories: [fastpages, CB]\n",
    "- image: images/picture.jpg"
   ]
  },
  {
   "attachments": {},
   "cell_type": "markdown",
   "metadata": {},
   "source": [
    "## Bubble Sorting"
   ]
  },
  {
   "cell_type": "code",
   "execution_count": null,
   "metadata": {
    "vscode": {
     "languageId": "java"
    }
   },
   "outputs": [],
   "source": [
    "public class GenericTQueue<T extends Comparable<T>> {\n",
    "    private List<T> items;\n",
    "\n",
    "    public GenericTQueue() {\n",
    "        items = new ArrayList<>();\n",
    "    }\n",
    "\n",
    "    public void enqueue(T item) {\n",
    "        items.add(item);\n",
    "    }\n",
    "\n",
    "    public T dequeue() {\n",
    "        if (items.isEmpty()) {\n",
    "            return null;\n",
    "        }\n",
    "        return items.remove(0);\n",
    "    }\n",
    "\n",
    "    public void bubbleSort() {\n",
    "        int n = items.size();\n",
    "        for (int i = 0; i < n-1; i++) {\n",
    "            for (int j = 0; j < n-i-1; j++) {\n",
    "                if (items.get(j).compareTo(items.get(j+1)) > 0) {\n",
    "                    T temp = items.get(j);\n",
    "                    items.set(j, items.get(j+1));\n",
    "                    items.set(j+1, temp);\n",
    "                }\n",
    "            }\n",
    "        }\n",
    "    }\n",
    "\n",
    "    @Override\n",
    "    public String toString() {\n",
    "        StringBuilder sb = new StringBuilder();\n",
    "        sb.append(\"[\");\n",
    "        for (int i = 0; i < items.size(); i++) {\n",
    "            sb.append(items.get(i).toString());\n",
    "            if (i < items.size()-1) {\n",
    "                sb.append(\", \");\n",
    "            }\n",
    "        }\n",
    "        sb.append(\"]\");\n",
    "        return sb.toString();\n",
    "    }\n",
    "}\n"
   ]
  },
  {
   "cell_type": "code",
   "execution_count": 2,
   "metadata": {
    "vscode": {
     "languageId": "java"
    }
   },
   "outputs": [],
   "source": [
    "public class GenericTQueue<T extends Comparable<T>> {\n",
    "    private List<T> items;\n",
    "\n",
    "    public GenericTQueue() {\n",
    "        items = new ArrayList<>();\n",
    "    }\n",
    "\n",
    "    public void enqueue(T item) {\n",
    "        items.add(item);\n",
    "    }\n",
    "\n",
    "    public T dequeue() {\n",
    "        if (items.isEmpty()) {\n",
    "            return null;\n",
    "        }\n",
    "        return items.remove(0);\n",
    "    }\n",
    "\n",
    "    public void bubbleSort() {\n",
    "        int n = items.size();\n",
    "        for (int i = 0; i < n-1; i++) {\n",
    "            for (int j = 0; j < n-i-1; j++) {\n",
    "                if (items.get(j).compareTo(items.get(j+1)) > 0) {\n",
    "                    T temp = items.get(j);\n",
    "                    items.set(j, items.get(j+1));\n",
    "                    items.set(j+1, temp);\n",
    "                }\n",
    "            }\n",
    "        }\n",
    "    }\n",
    "\n",
    "    @Override\n",
    "    public String toString() {\n",
    "        StringBuilder sb = new StringBuilder();\n",
    "        sb.append(\"[\");\n",
    "        for (int i = 0; i < items.size(); i++) {\n",
    "            sb.append(items.get(i).toString());\n",
    "            if (i < items.size()-1) {\n",
    "                sb.append(\", \");\n",
    "            }\n",
    "        }\n",
    "        sb.append(\"]\");\n",
    "        return sb.toString();\n",
    "    }\n",
    "}\n"
   ]
  },
  {
   "cell_type": "code",
   "execution_count": null,
   "metadata": {
    "vscode": {
     "languageId": "java"
    }
   },
   "outputs": [],
   "source": [
    "class QueueTester {\n",
    "    public static void main(String[] args)\n",
    "    {\n",
    "        // Create iterable Queue of Words\n",
    "        String[] words = new String[] { \"seven\", \"slimy\", \"snakes\", \"sallying\", \"slowly\", \"slithered\", \"southward\"};\n",
    "        Queue qWords = new Queue(\"Words\", words);\n",
    "        qWords.print();\n",
    "        \n",
    "        \n",
    "        // Create iterable Queue of Integers\n",
    "        Integer[] numbers = new Integer[] { 0, 1, 2, 3, 4, 5, 6, 7, 8, 9};\n",
    "        Queue qNums = new Queue(\"Integers\", numbers );\n",
    "        qNums.print();\n",
    "\n",
    "       \n",
    "        // Create iterable Queue of NCS Collectable\n",
    "        Animal.setOrder(Animal.KeyType.name);\n",
    "        Alphabet.setOrder(Alphabet.KeyType.letter);\n",
    "        Cupcake.setOrder(Cupcake.KeyType.flavor);\n",
    "        // Illustrates use of a series of repeating arguments\n",
    "        Queue qCollect = new Queue(\"Collectable\",\n",
    "                Alphabet.alphabetData(),\n",
    "                Animal.animals(),\n",
    "                Cupcake.cupcakes()\n",
    "        );\n",
    "        qCollect.print();\n",
    "\n",
    "\n",
    "        // Create iterable Queue of Mixed types of data\n",
    "        Queue qMix = new Queue(\"Mixed\");\n",
    "        qMix.add(\"Start\");\n",
    "        qMix.addList(\n",
    "                words,\n",
    "                numbers,\n",
    "                Alphabet.alphabetData(),\n",
    "                Animal.animals(),\n",
    "                Cupcake.cupcakes()\n",
    "        );\n",
    "        qMix.add(\"End\");\n",
    "        qMix.print();\n",
    "    }\n",
    "}\n",
    "QueueTester.main(null);"
   ]
  },
  {
   "attachments": {},
   "cell_type": "markdown",
   "metadata": {},
   "source": [
    "## Selection Sorting"
   ]
  },
  {
   "cell_type": "code",
   "execution_count": null,
   "metadata": {
    "vscode": {
     "languageId": "java"
    }
   },
   "outputs": [],
   "source": []
  },
  {
   "attachments": {},
   "cell_type": "markdown",
   "metadata": {},
   "source": [
    "## Insertion Sorting"
   ]
  },
  {
   "cell_type": "code",
   "execution_count": null,
   "metadata": {
    "vscode": {
     "languageId": "java"
    }
   },
   "outputs": [],
   "source": []
  }
 ],
 "metadata": {
  "kernelspec": {
   "display_name": "Java",
   "language": "java",
   "name": "java"
  },
  "language_info": {
   "codemirror_mode": "java",
   "file_extension": ".jshell",
   "mimetype": "text/x-java-source",
   "name": "Java",
   "pygments_lexer": "java",
   "version": "17.0.5+8-Ubuntu-2ubuntu120.04"
  },
  "orig_nbformat": 4
 },
 "nbformat": 4,
 "nbformat_minor": 2
}
