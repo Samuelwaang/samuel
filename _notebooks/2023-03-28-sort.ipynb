{
 "cells": [
  {
   "attachments": {},
   "cell_type": "markdown",
   "metadata": {},
   "source": [
    "# Sort\n",
    "\n",
    "- toc: false\n",
    "- badges: true\n",
    "- comments: true\n",
    "- author: Samuel\n",
    "- categories: [fastpages, CB]\n",
    "- image: images/picture.jpg"
   ]
  },
  {
   "attachments": {},
   "cell_type": "markdown",
   "metadata": {},
   "source": [
    "## Bubble Sorting"
   ]
  },
  {
   "cell_type": "code",
   "execution_count": null,
   "metadata": {},
   "outputs": [],
   "source": [
    "public class LinkedList<T>\n",
    "{\n",
    "    private T data;\n",
    "    private LinkedList<T> prevNode, nextNode;\n",
    "\n",
    "    /**\n",
    "     *  Constructs a new element\n",
    "     *\n",
    "     * @param  data, data of object\n",
    "     * @param  node, previous node\n",
    "     */\n",
    "    public LinkedList(T data, LinkedList<T> node)\n",
    "    {\n",
    "        this.setData(data);\n",
    "        this.setPrevNode(node);\n",
    "        this.setNextNode(null);\n",
    "    }\n",
    "\n",
    "    /**\n",
    "     *  Clone an object,\n",
    "     *\n",
    "     * @param  node  object to clone\n",
    "     */\n",
    "    public LinkedList(LinkedList<T> node)\n",
    "    {\n",
    "        this.setData(node.data);\n",
    "        this.setPrevNode(node.prevNode);\n",
    "        this.setNextNode(node.nextNode);\n",
    "    }\n",
    "\n",
    "    /**\n",
    "     *  Setter for T data in DoubleLinkedNode object\n",
    "     *\n",
    "     * @param  data, update data of object\n",
    "     */\n",
    "    public void setData(T data)\n",
    "    {\n",
    "        this.data = data;\n",
    "    }\n",
    "\n",
    "    /**\n",
    "     *  Returns T data for this element\n",
    "     *\n",
    "     * @return  data associated with object\n",
    "     */\n",
    "    public T getData()\n",
    "    {\n",
    "        return this.data;\n",
    "    }\n",
    "\n",
    "    /**\n",
    "     *  Setter for prevNode in DoubleLinkedNode object\n",
    "     *\n",
    "     * @param node, prevNode to current Object\n",
    "     */\n",
    "    public void setPrevNode(LinkedList<T> node)\n",
    "    {\n",
    "        this.prevNode = node;\n",
    "    }\n",
    "\n",
    "    /**\n",
    "     *  Setter for nextNode in DoubleLinkedNode object\n",
    "     *\n",
    "     * @param node, nextNode to current Object\n",
    "     */\n",
    "    public void setNextNode(LinkedList<T> node)\n",
    "    {\n",
    "        this.nextNode = node;\n",
    "    }\n",
    "\n",
    "\n",
    "    /**\n",
    "     *  Returns reference to previous object in list\n",
    "     *\n",
    "     * @return  the previous object in the list\n",
    "     */\n",
    "    public LinkedList<T> getPrevious()\n",
    "    {\n",
    "        return this.prevNode;\n",
    "    }\n",
    "\n",
    "    /**\n",
    "     *  Returns reference to next object in list\n",
    "     *\n",
    "     * @return  the next object in the list\n",
    "     */\n",
    "    public LinkedList<T> getNext()\n",
    "    {\n",
    "        return this.nextNode;\n",
    "    }\n",
    "\n",
    "}"
   ]
  },
  {
   "attachments": {},
   "cell_type": "markdown",
   "metadata": {},
   "source": [
    "## Selection Sorting"
   ]
  },
  {
   "cell_type": "code",
   "execution_count": null,
   "metadata": {},
   "outputs": [],
   "source": []
  },
  {
   "attachments": {},
   "cell_type": "markdown",
   "metadata": {},
   "source": [
    "## Insertion Sorting"
   ]
  },
  {
   "cell_type": "code",
   "execution_count": null,
   "metadata": {},
   "outputs": [],
   "source": []
  }
 ],
 "metadata": {
  "kernelspec": {
   "display_name": "Java",
   "language": "java",
   "name": "java"
  },
  "language_info": {
   "name": "java"
  },
  "orig_nbformat": 4
 },
 "nbformat": 4,
 "nbformat_minor": 2
}
